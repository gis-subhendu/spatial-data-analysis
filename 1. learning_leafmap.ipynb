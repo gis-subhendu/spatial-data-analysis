{
 "cells": [
  {
   "cell_type": "code",
   "execution_count": 2,
   "metadata": {},
   "outputs": [],
   "source": [
    "import os\n",
    "import leafmap"
   ]
  },
  {
   "cell_type": "code",
   "execution_count": 3,
   "metadata": {},
   "outputs": [],
   "source": [
    "base_map = leafmap.Map(\n",
    "    center=[22.585835, 88.462738],\n",
    "    min_zoom = 14,\n",
    "    draw_control=False,\n",
    "    measure_control=False,\n",
    "    fullscreen_control=True,\n",
    "    attribution_control=False,\n",
    ")"
   ]
  },
  {
   "attachments": {},
   "cell_type": "markdown",
   "metadata": {},
   "source": [
    "Adding Raster layers"
   ]
  },
  {
   "cell_type": "code",
   "execution_count": 4,
   "metadata": {},
   "outputs": [],
   "source": [
    "raster_url = 'http://localhost:8080/geoserver/wms?'\n",
    "layer_name = 'gisAnalysis_workspace:AA-I_Ortho_20cm'\n",
    "params = {\n",
    "    'format': 'image/png',\n",
    "    'transparent' : True,\n",
    "}\n",
    "attribution = \"Leafmap\"\n",
    "layer_title = 'Raster Base'\n"
   ]
  },
  {
   "cell_type": "code",
   "execution_count": 5,
   "metadata": {},
   "outputs": [],
   "source": [
    "# Adding raster tile layer from geoserver using WMS \n",
    "\n",
    "base_map.add_wms_layer(\n",
    "    url = raster_url,\n",
    "    layers = layer_name,\n",
    "    name = layer_title,\n",
    "    attribution = attribution,\n",
    "    format = params['format'],\n",
    "    transparent = params['transparent']\n",
    ")"
   ]
  },
  {
   "attachments": {},
   "cell_type": "markdown",
   "metadata": {},
   "source": [
    "Adding vector data sets"
   ]
  },
  {
   "cell_type": "code",
   "execution_count": 6,
   "metadata": {},
   "outputs": [],
   "source": [
    "# Add Geojson file\n",
    "geojson_url = r\"C:\\Users\\subhe\\Documents\\dataSets\\AA-I_Plot_PGN.geojson\"\n",
    "style = {\n",
    "    'stroke': True,\n",
    "    'color':'#0000ff',\n",
    "    'weight': 2,\n",
    "    'opacity': 1,\n",
    "    'fill': True,\n",
    "    'fillcolor': '#0000ff',\n",
    "    'fillOpacity': 0.1,\n",
    "}\n",
    "\n",
    "hover_style = {'fillOpacity': 0.7}"
   ]
  },
  {
   "cell_type": "code",
   "execution_count": 7,
   "metadata": {},
   "outputs": [],
   "source": [
    "base_map.add_geojson(\n",
    "    in_geojson = geojson_url,\n",
    "    layer_name= \"AA-I Plot\",\n",
    "    style = style,\n",
    "    hover_style= hover_style,\n",
    "    info_mode= False,\n",
    ")"
   ]
  },
  {
   "cell_type": "code",
   "execution_count": 8,
   "metadata": {},
   "outputs": [
    {
     "data": {
      "application/vnd.jupyter.widget-view+json": {
       "model_id": "08935af9dde74cc0a7c16ce914e23404",
       "version_major": 2,
       "version_minor": 0
      },
      "text/plain": [
       "Map(center=[22.585835, 88.462738], controls=(ZoomControl(options=['position', 'zoom_in_text', 'zoom_in_title',…"
      ]
     },
     "metadata": {},
     "output_type": "display_data"
    }
   ],
   "source": [
    "base_map"
   ]
  }
 ],
 "metadata": {
  "kernelspec": {
   "display_name": "Python 3",
   "language": "python",
   "name": "python3"
  },
  "language_info": {
   "codemirror_mode": {
    "name": "ipython",
    "version": 3
   },
   "file_extension": ".py",
   "mimetype": "text/x-python",
   "name": "python",
   "nbconvert_exporter": "python",
   "pygments_lexer": "ipython3",
   "version": "3.10.11"
  },
  "orig_nbformat": 4
 },
 "nbformat": 4,
 "nbformat_minor": 2
}
