{
 "cells": [
  {
   "cell_type": "code",
   "execution_count": 19,
   "metadata": {},
   "outputs": [],
   "source": [
    "import os\n",
    "import leafmap"
   ]
  },
  {
   "cell_type": "code",
   "execution_count": 20,
   "metadata": {},
   "outputs": [],
   "source": [
    "base_map = leafmap.Map(\n",
    "    center=[22.585835, 88.462738],\n",
    "    min_zoom = 14,\n",
    "    draw_control=False,\n",
    "    measure_control=False,\n",
    "    fullscreen_control=True,\n",
    "    attribution_control=False,\n",
    ")"
   ]
  },
  {
   "attachments": {},
   "cell_type": "markdown",
   "metadata": {},
   "source": [
    "Adding Raster layers"
   ]
  },
  {
   "cell_type": "code",
   "execution_count": 21,
   "metadata": {},
   "outputs": [],
   "source": [
    "raster_url = 'http://localhost:8080/geoserver/wms?'\n",
    "layer_name = 'gisAnalysis_workspace:AA-I_Ortho_20cm'\n",
    "params = {\n",
    "    'format': 'image/png',\n",
    "    'transparent' : True,\n",
    "}\n",
    "attribution = \"Leafmap\"\n",
    "layer_title = 'Raster Base'\n"
   ]
  },
  {
   "cell_type": "code",
   "execution_count": 22,
   "metadata": {},
   "outputs": [],
   "source": [
    "# Adding raster tile layer from geoserver using WMS \n",
    "\n",
    "base_map.add_wms_layer(\n",
    "    url = raster_url,\n",
    "    layers = layer_name,\n",
    "    name = layer_title,\n",
    "    attribution = attribution,\n",
    "    format = params['format'],\n",
    "    transparent = params['transparent']\n",
    ")"
   ]
  },
  {
   "attachments": {},
   "cell_type": "markdown",
   "metadata": {},
   "source": [
    "Adding vector data sets"
   ]
  },
  {
   "cell_type": "code",
   "execution_count": 23,
   "metadata": {},
   "outputs": [],
   "source": [
    "# Add Geojson file\n",
    "geojson_url = r\"C:\\Users\\subhe\\Documents\\dataSets\\AA-I_Plot_PGN.geojson\"\n",
    "style = {\n",
    "    'stroke': True,\n",
    "    'color':'#0000ff',\n",
    "    'weight': 2,\n",
    "    'opacity': 1,\n",
    "    'fill': True,\n",
    "    'fillcolor': '#0000ff',\n",
    "    'fillOpacity': 0.1,\n",
    "}\n",
    "\n",
    "hover_style = {'fillOpacity': 0.7}"
   ]
  },
  {
   "cell_type": "code",
   "execution_count": 24,
   "metadata": {},
   "outputs": [],
   "source": [
    "base_map.add_geojson(\n",
    "    in_geojson = geojson_url,\n",
    "    layer_name= \"AA-I Plot\",\n",
    "    style = style,\n",
    "    hover_style= hover_style,\n",
    "    info_mode= False,\n",
    ")"
   ]
  },
  {
   "attachments": {},
   "cell_type": "markdown",
   "metadata": {},
   "source": [
    "Adding Labels into Vector Layer"
   ]
  },
  {
   "cell_type": "code",
   "execution_count": 25,
   "metadata": {},
   "outputs": [],
   "source": [
    "import pandas as pd\n",
    "import geopandas as gpd"
   ]
  },
  {
   "cell_type": "code",
   "execution_count": 26,
   "metadata": {},
   "outputs": [],
   "source": [
    "gdf = gpd.read_file(geojson_url)"
   ]
  },
  {
   "cell_type": "code",
   "execution_count": 33,
   "metadata": {},
   "outputs": [
    {
     "name": "stdout",
     "output_type": "stream",
     "text": [
      "<class 'geopandas.geodataframe.GeoDataFrame'>\n",
      "RangeIndex: 5212 entries, 0 to 5211\n",
      "Data columns (total 18 columns):\n",
      " #   Column      Non-Null Count  Dtype   \n",
      "---  ------      --------------  -----   \n",
      " 0   Id          5212 non-null   int64   \n",
      " 1   Phase       5212 non-null   object  \n",
      " 2   Block       5212 non-null   object  \n",
      " 3   Pin_Code    5212 non-null   int64   \n",
      " 4   Police_Stn  5212 non-null   object  \n",
      " 5   Plot_No     5212 non-null   object  \n",
      " 6   PremisesNo  5212 non-null   object  \n",
      " 7   Plot_Nm     34 non-null     object  \n",
      " 8   BLD_Avlb    5212 non-null   object  \n",
      " 9   BLD_Status  5212 non-null   object  \n",
      " 10  Plot_Ctgry  5212 non-null   object  \n",
      " 11  Presnt_Lnd  5212 non-null   object  \n",
      " 12  Latitude    5212 non-null   float64 \n",
      " 13  Longitude   5212 non-null   float64 \n",
      " 14  Remarks     3 non-null      object  \n",
      " 15  Date        5212 non-null   object  \n",
      " 16  Area_SQMT   5212 non-null   float64 \n",
      " 17  geometry    5212 non-null   geometry\n",
      "dtypes: float64(3), geometry(1), int64(2), object(12)\n",
      "memory usage: 733.1+ KB\n"
     ]
    }
   ],
   "source": [
    "gdf.info()"
   ]
  },
  {
   "cell_type": "code",
   "execution_count": 32,
   "metadata": {},
   "outputs": [],
   "source": [
    "base_map.add_labels(\n",
    "    data = geojson_url,\n",
    "    column = 'Plot_No',\n",
    "    font_size = '8pt',\n",
    "    font_color = 'Black',\n",
    "    font_family = 'arial',\n",
    "    font_weight = 'normal',\n",
    ")"
   ]
  }
 ],
 "metadata": {
  "kernelspec": {
   "display_name": "Python 3",
   "language": "python",
   "name": "python3"
  },
  "language_info": {
   "codemirror_mode": {
    "name": "ipython",
    "version": 3
   },
   "file_extension": ".py",
   "mimetype": "text/x-python",
   "name": "python",
   "nbconvert_exporter": "python",
   "pygments_lexer": "ipython3",
   "version": "3.10.11"
  },
  "orig_nbformat": 4
 },
 "nbformat": 4,
 "nbformat_minor": 2
}
