{
 "cells": [
  {
   "cell_type": "code",
   "execution_count": 19,
   "metadata": {},
   "outputs": [],
   "source": [
    "import os\n",
    "import leafmap"
   ]
  },
  {
   "cell_type": "code",
   "execution_count": 20,
   "metadata": {},
   "outputs": [],
   "source": [
    "base_map = leafmap.Map(\n",
    "    center=[22.585835, 88.462738],\n",
    "    min_zoom = 14,\n",
    "    draw_control=False,\n",
    "    measure_control=False,\n",
    "    fullscreen_control=True,\n",
    "    attribution_control=False,\n",
    ")"
   ]
  },
  {
   "attachments": {},
   "cell_type": "markdown",
   "metadata": {},
   "source": [
    "Adding Raster layers"
   ]
  },
  {
   "cell_type": "code",
   "execution_count": 21,
   "metadata": {},
   "outputs": [],
   "source": [
    "raster_url = 'http://localhost:8080/geoserver/wms?'\n",
    "layer_name = 'gisAnalysis_workspace:AA-I_Ortho_20cm'\n",
    "params = {\n",
    "    'format': 'image/png',\n",
    "    'transparent' : True,\n",
    "}\n",
    "attribution = \"Leafmap\"\n",
    "layer_title = 'Raster Base'\n"
   ]
  },
  {
   "cell_type": "code",
   "execution_count": 22,
   "metadata": {},
   "outputs": [],
   "source": [
    "# Adding raster tile layer from geoserver using WMS \n",
    "\n",
    "base_map.add_wms_layer(\n",
    "    url = raster_url,\n",
    "    layers = layer_name,\n",
    "    name = layer_title,\n",
    "    attribution = attribution,\n",
    "    format = params['format'],\n",
    "    transparent = params['transparent']\n",
    ")"
   ]
  },
  {
   "attachments": {},
   "cell_type": "markdown",
   "metadata": {},
   "source": [
    "Adding vector data sets"
   ]
  },
  {
   "cell_type": "code",
   "execution_count": 23,
   "metadata": {},
   "outputs": [],
   "source": [
    "# Add Geojson file\n",
    "geojson_url = r\"C:\\Users\\subhe\\Documents\\dataSets\\AA-I_Plot_PGN.geojson\"\n",
    "style = {\n",
    "    'stroke': True,\n",
    "    'color':'#0000ff',\n",
    "    'weight': 2,\n",
    "    'opacity': 1,\n",
    "    'fill': True,\n",
    "    'fillcolor': '#0000ff',\n",
    "    'fillOpacity': 0.1,\n",
    "}\n",
    "\n",
    "hover_style = {'fillOpacity': 0.7}"
   ]
  },
  {
   "cell_type": "code",
   "execution_count": 24,
   "metadata": {},
   "outputs": [],
   "source": [
    "base_map.add_geojson(\n",
    "    in_geojson = geojson_url,\n",
    "    layer_name= \"AA-I Plot\",\n",
    "    style = style,\n",
    "    hover_style= hover_style,\n",
    "    info_mode= False,\n",
    ")"
   ]
  },
  {
   "attachments": {},
   "cell_type": "markdown",
   "metadata": {},
   "source": [
    "Adding Labels into Vector Layer"
   ]
  },
  {
   "cell_type": "code",
   "execution_count": 25,
   "metadata": {},
   "outputs": [],
   "source": [
    "import pandas as pd\n",
    "import geopandas as gpd"
   ]
  },
  {
   "cell_type": "code",
   "execution_count": 26,
   "metadata": {},
   "outputs": [],
   "source": [
    "gdf = gpd.read_file(geojson_url)"
   ]
  },
  {
   "cell_type": "code",
   "execution_count": 33,
   "metadata": {},
   "outputs": [
    {
     "name": "stdout",
     "output_type": "stream",
     "text": [
      "<class 'geopandas.geodataframe.GeoDataFrame'>\n",
      "RangeIndex: 5212 entries, 0 to 5211\n",
      "Data columns (total 18 columns):\n",
      " #   Column      Non-Null Count  Dtype   \n",
      "---  ------      --------------  -----   \n",
      " 0   Id          5212 non-null   int64   \n",
      " 1   Phase       5212 non-null   object  \n",
      " 2   Block       5212 non-null   object  \n",
      " 3   Pin_Code    5212 non-null   int64   \n",
      " 4   Police_Stn  5212 non-null   object  \n",
      " 5   Plot_No     5212 non-null   object  \n",
      " 6   PremisesNo  5212 non-null   object  \n",
      " 7   Plot_Nm     34 non-null     object  \n",
      " 8   BLD_Avlb    5212 non-null   object  \n",
      " 9   BLD_Status  5212 non-null   object  \n",
      " 10  Plot_Ctgry  5212 non-null   object  \n",
      " 11  Presnt_Lnd  5212 non-null   object  \n",
      " 12  Latitude    5212 non-null   float64 \n",
      " 13  Longitude   5212 non-null   float64 \n",
      " 14  Remarks     3 non-null      object  \n",
      " 15  Date        5212 non-null   object  \n",
      " 16  Area_SQMT   5212 non-null   float64 \n",
      " 17  geometry    5212 non-null   geometry\n",
      "dtypes: float64(3), geometry(1), int64(2), object(12)\n",
      "memory usage: 733.1+ KB\n"
     ]
    }
   ],
   "source": [
    "gdf.info()"
   ]
  },
  {
   "cell_type": "code",
   "execution_count": 34,
   "metadata": {},
   "outputs": [
    {
     "data": {
      "text/html": [
       "<div>\n",
       "<style scoped>\n",
       "    .dataframe tbody tr th:only-of-type {\n",
       "        vertical-align: middle;\n",
       "    }\n",
       "\n",
       "    .dataframe tbody tr th {\n",
       "        vertical-align: top;\n",
       "    }\n",
       "\n",
       "    .dataframe thead th {\n",
       "        text-align: right;\n",
       "    }\n",
       "</style>\n",
       "<table border=\"1\" class=\"dataframe\">\n",
       "  <thead>\n",
       "    <tr style=\"text-align: right;\">\n",
       "      <th></th>\n",
       "      <th>Id</th>\n",
       "      <th>Phase</th>\n",
       "      <th>Block</th>\n",
       "      <th>Pin_Code</th>\n",
       "      <th>Police_Stn</th>\n",
       "      <th>Plot_No</th>\n",
       "      <th>PremisesNo</th>\n",
       "      <th>Plot_Nm</th>\n",
       "      <th>BLD_Avlb</th>\n",
       "      <th>BLD_Status</th>\n",
       "      <th>Plot_Ctgry</th>\n",
       "      <th>Presnt_Lnd</th>\n",
       "      <th>Latitude</th>\n",
       "      <th>Longitude</th>\n",
       "      <th>Remarks</th>\n",
       "      <th>Date</th>\n",
       "      <th>Area_SQMT</th>\n",
       "      <th>geometry</th>\n",
       "    </tr>\n",
       "  </thead>\n",
       "  <tbody>\n",
       "    <tr>\n",
       "      <th>0</th>\n",
       "      <td>1</td>\n",
       "      <td>Phase-2</td>\n",
       "      <td>CD</td>\n",
       "      <td>700156</td>\n",
       "      <td>AREA OF NEW TOWN P.S.</td>\n",
       "      <td>CD/91</td>\n",
       "      <td>08-0264</td>\n",
       "      <td>NaN</td>\n",
       "      <td>Yes</td>\n",
       "      <td>Constructed</td>\n",
       "      <td>Residential</td>\n",
       "      <td>[3] LIG CO-OPERATIVE</td>\n",
       "      <td>22.5748</td>\n",
       "      <td>88.4645</td>\n",
       "      <td>NaN</td>\n",
       "      <td>2022-08-29</td>\n",
       "      <td>275.097</td>\n",
       "      <td>MULTIPOLYGON Z (((88.46455 22.57473 0.00000, 8...</td>\n",
       "    </tr>\n",
       "    <tr>\n",
       "      <th>1</th>\n",
       "      <td>2</td>\n",
       "      <td>Phase-2</td>\n",
       "      <td>CE</td>\n",
       "      <td>700156</td>\n",
       "      <td>AREA OF NEW TOWN P.S.</td>\n",
       "      <td>CE/1/C/89</td>\n",
       "      <td>04-0204</td>\n",
       "      <td>NaN</td>\n",
       "      <td>Yes</td>\n",
       "      <td>Constructed</td>\n",
       "      <td>Residential</td>\n",
       "      <td>WEST BENGAL HOUSING BOARD</td>\n",
       "      <td>22.5758</td>\n",
       "      <td>88.4608</td>\n",
       "      <td>NaN</td>\n",
       "      <td>2022-08-29</td>\n",
       "      <td>394.439</td>\n",
       "      <td>MULTIPOLYGON Z (((88.46094 22.57582 0.00000, 8...</td>\n",
       "    </tr>\n",
       "    <tr>\n",
       "      <th>2</th>\n",
       "      <td>3</td>\n",
       "      <td>Phase-2</td>\n",
       "      <td>CD</td>\n",
       "      <td>700156</td>\n",
       "      <td>AREA OF NEW TOWN P.S.</td>\n",
       "      <td>CD/101</td>\n",
       "      <td>17-0211</td>\n",
       "      <td>NaN</td>\n",
       "      <td>Yes</td>\n",
       "      <td>Constructed</td>\n",
       "      <td>Residential</td>\n",
       "      <td>[3] LIG CO-OPERATIVE</td>\n",
       "      <td>22.5753</td>\n",
       "      <td>88.4643</td>\n",
       "      <td>NaN</td>\n",
       "      <td>2022-08-29</td>\n",
       "      <td>269.666</td>\n",
       "      <td>MULTIPOLYGON Z (((88.46431 22.57522 0.00000, 8...</td>\n",
       "    </tr>\n",
       "    <tr>\n",
       "      <th>3</th>\n",
       "      <td>4</td>\n",
       "      <td>Phase-2</td>\n",
       "      <td>CB</td>\n",
       "      <td>700156</td>\n",
       "      <td>AREA OF NEW TOWN P.S.</td>\n",
       "      <td>CB/162</td>\n",
       "      <td>49-0199</td>\n",
       "      <td>NaN</td>\n",
       "      <td>Yes</td>\n",
       "      <td>Constructed</td>\n",
       "      <td>Residential</td>\n",
       "      <td>[2] MIG CO-OPERATIVE</td>\n",
       "      <td>22.5773</td>\n",
       "      <td>88.4684</td>\n",
       "      <td>NaN</td>\n",
       "      <td>2022-08-29</td>\n",
       "      <td>330.547</td>\n",
       "      <td>MULTIPOLYGON Z (((88.46835 22.57737 0.00000, 8...</td>\n",
       "    </tr>\n",
       "    <tr>\n",
       "      <th>4</th>\n",
       "      <td>5</td>\n",
       "      <td>Phase-2</td>\n",
       "      <td>CB</td>\n",
       "      <td>700156</td>\n",
       "      <td>AREA OF NEW TOWN P.S.</td>\n",
       "      <td>CB/57</td>\n",
       "      <td>27-0254</td>\n",
       "      <td>NaN</td>\n",
       "      <td>Yes</td>\n",
       "      <td>Constructed</td>\n",
       "      <td>Residential</td>\n",
       "      <td>[2] MIG CO-OPERATIVE</td>\n",
       "      <td>22.5762</td>\n",
       "      <td>88.4654</td>\n",
       "      <td>NaN</td>\n",
       "      <td>2022-08-29</td>\n",
       "      <td>330.606</td>\n",
       "      <td>MULTIPOLYGON Z (((88.46547 22.57629 0.00000, 8...</td>\n",
       "    </tr>\n",
       "  </tbody>\n",
       "</table>\n",
       "</div>"
      ],
      "text/plain": [
       "   Id    Phase Block  Pin_Code             Police_Stn    Plot_No PremisesNo   \n",
       "0   1  Phase-2    CD    700156  AREA OF NEW TOWN P.S.      CD/91    08-0264  \\\n",
       "1   2  Phase-2    CE    700156  AREA OF NEW TOWN P.S.  CE/1/C/89    04-0204   \n",
       "2   3  Phase-2    CD    700156  AREA OF NEW TOWN P.S.     CD/101    17-0211   \n",
       "3   4  Phase-2    CB    700156  AREA OF NEW TOWN P.S.     CB/162    49-0199   \n",
       "4   5  Phase-2    CB    700156  AREA OF NEW TOWN P.S.      CB/57    27-0254   \n",
       "\n",
       "  Plot_Nm BLD_Avlb   BLD_Status   Plot_Ctgry                 Presnt_Lnd   \n",
       "0     NaN      Yes  Constructed  Residential       [3] LIG CO-OPERATIVE  \\\n",
       "1     NaN      Yes  Constructed  Residential  WEST BENGAL HOUSING BOARD   \n",
       "2     NaN      Yes  Constructed  Residential       [3] LIG CO-OPERATIVE   \n",
       "3     NaN      Yes  Constructed  Residential       [2] MIG CO-OPERATIVE   \n",
       "4     NaN      Yes  Constructed  Residential       [2] MIG CO-OPERATIVE   \n",
       "\n",
       "   Latitude  Longitude Remarks        Date  Area_SQMT   \n",
       "0   22.5748    88.4645     NaN  2022-08-29    275.097  \\\n",
       "1   22.5758    88.4608     NaN  2022-08-29    394.439   \n",
       "2   22.5753    88.4643     NaN  2022-08-29    269.666   \n",
       "3   22.5773    88.4684     NaN  2022-08-29    330.547   \n",
       "4   22.5762    88.4654     NaN  2022-08-29    330.606   \n",
       "\n",
       "                                            geometry  \n",
       "0  MULTIPOLYGON Z (((88.46455 22.57473 0.00000, 8...  \n",
       "1  MULTIPOLYGON Z (((88.46094 22.57582 0.00000, 8...  \n",
       "2  MULTIPOLYGON Z (((88.46431 22.57522 0.00000, 8...  \n",
       "3  MULTIPOLYGON Z (((88.46835 22.57737 0.00000, 8...  \n",
       "4  MULTIPOLYGON Z (((88.46547 22.57629 0.00000, 8...  "
      ]
     },
     "execution_count": 34,
     "metadata": {},
     "output_type": "execute_result"
    }
   ],
   "source": [
    "gdf.head()"
   ]
  },
  {
   "cell_type": "code",
   "execution_count": 32,
   "metadata": {},
   "outputs": [],
   "source": [
    "base_map.add_labels(\n",
    "    data = geojson_url,\n",
    "    column = 'Plot_No',\n",
    "    font_size = '8pt',\n",
    "    font_color = 'Black',\n",
    "    font_family = 'arial',\n",
    "    font_weight = 'normal',\n",
    ")"
   ]
  }
 ],
 "metadata": {
  "kernelspec": {
   "display_name": "Python 3",
   "language": "python",
   "name": "python3"
  },
  "language_info": {
   "codemirror_mode": {
    "name": "ipython",
    "version": 3
   },
   "file_extension": ".py",
   "mimetype": "text/x-python",
   "name": "python",
   "nbconvert_exporter": "python",
   "pygments_lexer": "ipython3",
   "version": "3.10.11"
  },
  "orig_nbformat": 4
 },
 "nbformat": 4,
 "nbformat_minor": 2
}
