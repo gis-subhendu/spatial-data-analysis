{
 "cells": [
  {
   "cell_type": "code",
   "execution_count": 1,
   "metadata": {},
   "outputs": [],
   "source": [
    "# impoting libraries\n",
    "import leafmap"
   ]
  },
  {
   "cell_type": "code",
   "execution_count": 3,
   "metadata": {},
   "outputs": [],
   "source": [
    "# Creating leafmap\n",
    "base_map = leafmap.Map(         #Default it will load open street map\n",
    "    # height = \"450px\",\n",
    "    # width = \"800px\",\n",
    "    center = [22.583652, 88.456500], # Latitude , Longitude\n",
    "    min_zoom = 14,\n",
    "    max_zoom = 30,\n",
    "    draw_control = False,\n",
    "    measure_control = False,\n",
    "    fullscreen_control = True,\n",
    "    attribution_control = False,\n",
    ")"
   ]
  },
  {
   "cell_type": "code",
   "execution_count": 4,
   "metadata": {},
   "outputs": [],
   "source": [
    "# WMS Raster base layer\n",
    "\n",
    "    # Define the Geoserver WMS Layer URL\n",
    "url = 'http://localhost:8080/geoserver/wms?'\n",
    "\n",
    "    # Define the layer name & parameters\n",
    "layer_name = 'gisAnalysis_workspace:AA-I_Ortho_10cm'\n",
    "params = {\n",
    "    'format':'image/png',\n",
    "    'transparent':True,\n",
    "}\t\n",
    "\n",
    "    # Define name & attribution of the layer\n",
    "layer_title = 'Raster Base'\n",
    "attribution = 'leafmap'\n",
    "\n",
    "    # Add the WMS layer to base map\n",
    "base_map.add_wms_layer(\n",
    "    url,\n",
    "    layers = layer_name,\n",
    "    name = layer_title,\n",
    "    attribution = attribution,\n",
    "    format = params['format'],\n",
    "    transparent = params['transparent'],\n",
    "    shown= True,\n",
    ")"
   ]
  },
  {
   "cell_type": "code",
   "execution_count": 6,
   "metadata": {},
   "outputs": [
    {
     "data": {
      "application/vnd.jupyter.widget-view+json": {
       "model_id": "264715ac2ee34b12a2e2714f2fa0032f",
       "version_major": 2,
       "version_minor": 0
      },
      "text/plain": [
       "Map(bottom=29232258.0, center=[22.57786656941285, 88.46013844013214], controls=(ZoomControl(options=['position…"
      ]
     },
     "metadata": {},
     "output_type": "display_data"
    }
   ],
   "source": [
    "# Loading/Display the Basemap\n",
    "base_map"
   ]
  }
 ],
 "metadata": {
  "kernelspec": {
   "display_name": "env_gisAnalysis",
   "language": "python",
   "name": "python3"
  },
  "language_info": {
   "codemirror_mode": {
    "name": "ipython",
    "version": 3
   },
   "file_extension": ".py",
   "mimetype": "text/x-python",
   "name": "python",
   "nbconvert_exporter": "python",
   "pygments_lexer": "ipython3",
   "version": "3.9.0"
  },
  "orig_nbformat": 4
 },
 "nbformat": 4,
 "nbformat_minor": 2
}
